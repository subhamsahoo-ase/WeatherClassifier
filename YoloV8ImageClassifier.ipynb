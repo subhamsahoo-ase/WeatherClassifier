{
 "cells": [
  {
   "cell_type": "markdown",
   "id": "8b11ce05-6ea1-4e25-b599-ecad4ad9449e",
   "metadata": {},
   "source": [
    "# YoloV8 Weather Image Classifier"
   ]
  },
  {
   "cell_type": "code",
   "execution_count": 7,
   "id": "1cbc94dd-361b-4e41-935c-8271ad768e54",
   "metadata": {},
   "outputs": [
    {
     "name": "stdout",
     "output_type": "stream",
     "text": [
      "No broken requirements found.\n"
     ]
    }
   ],
   "source": [
    "# check for ultralytics\n",
    "!pip check ultralytics"
   ]
  },
  {
   "cell_type": "code",
   "execution_count": 11,
   "id": "be3c6638-1490-4a92-8b0b-50dbb74ea059",
   "metadata": {},
   "outputs": [
    {
     "name": "stdout",
     "output_type": "stream",
     "text": [
      "No broken requirements found.\n"
     ]
    }
   ],
   "source": [
    "# check for numpy\n",
    "!pip check numpy"
   ]
  },
  {
   "cell_type": "code",
   "execution_count": 1,
   "id": "64047312-3241-4c43-8cc2-b0b796918849",
   "metadata": {},
   "outputs": [
    {
     "name": "stdout",
     "output_type": "stream",
     "text": [
      "Ultralytics YOLOv8.1.29 🚀 Python-3.12.2 torch-2.2.1 CPU (Intel Core(TM) i5-7360U 2.30GHz)\n",
      "\u001b[34m\u001b[1mengine/trainer: \u001b[0mtask=classify, mode=train, model=yolov8n-cls.pt, data=/Users/subhamsahoo/documents/CV_Roadmap_Work/ImageClassification/ImageClassifierYoloV8/dataset2, epochs=20, time=None, patience=100, batch=16, imgsz=64, save=True, save_period=-1, cache=False, device=None, workers=8, project=None, name=train4, exist_ok=False, pretrained=True, optimizer=auto, verbose=True, seed=0, deterministic=True, single_cls=False, rect=False, cos_lr=False, close_mosaic=10, resume=False, amp=True, fraction=1.0, profile=False, freeze=None, multi_scale=False, overlap_mask=True, mask_ratio=4, dropout=0.0, val=True, split=val, save_json=False, save_hybrid=False, conf=None, iou=0.7, max_det=300, half=False, dnn=False, plots=True, source=None, vid_stride=1, stream_buffer=False, visualize=False, augment=False, agnostic_nms=False, classes=None, retina_masks=False, embed=None, show=False, save_frames=False, save_txt=False, save_conf=False, save_crop=False, show_labels=True, show_conf=True, show_boxes=True, line_width=None, format=torchscript, keras=False, optimize=False, int8=False, dynamic=False, simplify=False, opset=None, workspace=4, nms=False, lr0=0.01, lrf=0.01, momentum=0.937, weight_decay=0.0005, warmup_epochs=3.0, warmup_momentum=0.8, warmup_bias_lr=0.1, box=7.5, cls=0.5, dfl=1.5, pose=12.0, kobj=1.0, label_smoothing=0.0, nbs=64, hsv_h=0.015, hsv_s=0.7, hsv_v=0.4, degrees=0.0, translate=0.1, scale=0.5, shear=0.0, perspective=0.0, flipud=0.0, fliplr=0.5, mosaic=1.0, mixup=0.0, copy_paste=0.0, auto_augment=randaugment, erasing=0.4, crop_fraction=1.0, cfg=None, tracker=botsort.yaml, save_dir=runs/classify/train4\n",
      "\u001b[34m\u001b[1mtrain:\u001b[0m /Users/subhamsahoo/documents/CV_Roadmap_Work/ImageClassification/ImageClassifierYoloV8/dataset2/train... found 907 images in 4 classes ✅ \n",
      "\u001b[34m\u001b[1mval:\u001b[0m /Users/subhamsahoo/documents/CV_Roadmap_Work/ImageClassification/ImageClassifierYoloV8/dataset2/val... found 218 images in 4 classes ✅ \n",
      "\u001b[34m\u001b[1mtest:\u001b[0m None...\n",
      "Overriding model.yaml nc=1000 with nc=4\n",
      "\n",
      "                   from  n    params  module                                       arguments                     \n",
      "  0                  -1  1       464  ultralytics.nn.modules.conv.Conv             [3, 16, 3, 2]                 \n",
      "  1                  -1  1      4672  ultralytics.nn.modules.conv.Conv             [16, 32, 3, 2]                \n",
      "  2                  -1  1      7360  ultralytics.nn.modules.block.C2f             [32, 32, 1, True]             \n",
      "  3                  -1  1     18560  ultralytics.nn.modules.conv.Conv             [32, 64, 3, 2]                \n",
      "  4                  -1  2     49664  ultralytics.nn.modules.block.C2f             [64, 64, 2, True]             \n",
      "  5                  -1  1     73984  ultralytics.nn.modules.conv.Conv             [64, 128, 3, 2]               \n",
      "  6                  -1  2    197632  ultralytics.nn.modules.block.C2f             [128, 128, 2, True]           \n",
      "  7                  -1  1    295424  ultralytics.nn.modules.conv.Conv             [128, 256, 3, 2]              \n",
      "  8                  -1  1    460288  ultralytics.nn.modules.block.C2f             [256, 256, 1, True]           \n",
      "  9                  -1  1    335364  ultralytics.nn.modules.head.Classify         [256, 4]                      \n",
      "YOLOv8n-cls summary: 99 layers, 1443412 parameters, 1443412 gradients, 3.4 GFLOPs\n",
      "Transferred 156/158 items from pretrained weights\n"
     ]
    },
    {
     "name": "stderr",
     "output_type": "stream",
     "text": [
      "\u001b[34m\u001b[1mtrain: \u001b[0mScanning /Users/subhamsahoo/documents/CV_Roadmap_Work/ImageClassification\u001b[0m"
     ]
    },
    {
     "name": "stdout",
     "output_type": "stream",
     "text": [
      "\u001b[34m\u001b[1mtrain: \u001b[0mWARNING ⚠️ /Users/subhamsahoo/documents/CV_Roadmap_Work/ImageClassification/ImageClassifierYoloV8/dataset2/train/rain/rain141.jpg: ignoring corrupt image/label: invalid image format GIF\n",
      "\u001b[34m\u001b[1mtrain: \u001b[0mWARNING ⚠️ /Users/subhamsahoo/documents/CV_Roadmap_Work/ImageClassification/ImageClassifierYoloV8/dataset2/train/rain/rain57.jpg: corrupt JPEG restored and saved\n",
      "\u001b[34m\u001b[1mtrain: \u001b[0mWARNING ⚠️ /Users/subhamsahoo/documents/CV_Roadmap_Work/ImageClassification/ImageClassifierYoloV8/dataset2/train/shine/shine126.jpg: corrupt JPEG restored and saved\n",
      "\u001b[34m\u001b[1mtrain: \u001b[0mWARNING ⚠️ /Users/subhamsahoo/documents/CV_Roadmap_Work/ImageClassification/ImageClassifierYoloV8/dataset2/train/shine/shine131.jpg: ignoring corrupt image/label: invalid image format GIF\n"
     ]
    },
    {
     "name": "stderr",
     "output_type": "stream",
     "text": [
      "\n",
      "\u001b[34m\u001b[1mval: \u001b[0mScanning /Users/subhamsahoo/documents/CV_Roadmap_Work/ImageClassification/I\u001b[0m"
     ]
    },
    {
     "name": "stdout",
     "output_type": "stream",
     "text": [
      "\u001b[34m\u001b[1moptimizer:\u001b[0m 'optimizer=auto' found, ignoring 'lr0=0.01' and 'momentum=0.937' and determining best 'optimizer', 'lr0' and 'momentum' automatically... \n",
      "\u001b[34m\u001b[1moptimizer:\u001b[0m AdamW(lr=0.000714, momentum=0.9) with parameter groups 26 weight(decay=0.0), 27 weight(decay=0.0005), 27 bias(decay=0.0)\n",
      "Image sizes 64 train, 64 val\n",
      "Using 0 dataloader workers\n",
      "Logging results to \u001b[1mruns/classify/train4\u001b[0m\n",
      "Starting training for 20 epochs...\n",
      "\n",
      "      Epoch    GPU_mem       loss  Instances       Size\n"
     ]
    },
    {
     "name": "stderr",
     "output_type": "stream",
     "text": [
      "\n",
      "       1/20         0G      1.259          9         64: 100%|██████████| 57/57 \n",
      "               classes   top1_acc   top5_acc: 100%|██████████| 7/7 [00:01<00:00,"
     ]
    },
    {
     "name": "stdout",
     "output_type": "stream",
     "text": [
      "                   all      0.702          1\n"
     ]
    },
    {
     "name": "stderr",
     "output_type": "stream",
     "text": [
      "\n"
     ]
    },
    {
     "name": "stdout",
     "output_type": "stream",
     "text": [
      "\n",
      "      Epoch    GPU_mem       loss  Instances       Size\n"
     ]
    },
    {
     "name": "stderr",
     "output_type": "stream",
     "text": [
      "       2/20         0G     0.7083          9         64: 100%|██████████| 57/57 \n",
      "               classes   top1_acc   top5_acc: 100%|██████████| 7/7 [00:00<00:00,"
     ]
    },
    {
     "name": "stdout",
     "output_type": "stream",
     "text": [
      "                   all       0.89          1\n"
     ]
    },
    {
     "name": "stderr",
     "output_type": "stream",
     "text": [
      "\n"
     ]
    },
    {
     "name": "stdout",
     "output_type": "stream",
     "text": [
      "\n",
      "      Epoch    GPU_mem       loss  Instances       Size\n"
     ]
    },
    {
     "name": "stderr",
     "output_type": "stream",
     "text": [
      "       3/20         0G     0.3893          9         64: 100%|██████████| 57/57 \n",
      "               classes   top1_acc   top5_acc: 100%|██████████| 7/7 [00:00<00:00,"
     ]
    },
    {
     "name": "stdout",
     "output_type": "stream",
     "text": [
      "                   all       0.94          1\n"
     ]
    },
    {
     "name": "stderr",
     "output_type": "stream",
     "text": [
      "\n"
     ]
    },
    {
     "name": "stdout",
     "output_type": "stream",
     "text": [
      "\n",
      "      Epoch    GPU_mem       loss  Instances       Size\n"
     ]
    },
    {
     "name": "stderr",
     "output_type": "stream",
     "text": [
      "       4/20         0G     0.2775          9         64: 100%|██████████| 57/57 \n",
      "               classes   top1_acc   top5_acc: 100%|██████████| 7/7 [00:00<00:00,"
     ]
    },
    {
     "name": "stdout",
     "output_type": "stream",
     "text": [
      "                   all      0.963          1\n"
     ]
    },
    {
     "name": "stderr",
     "output_type": "stream",
     "text": [
      "\n"
     ]
    },
    {
     "name": "stdout",
     "output_type": "stream",
     "text": [
      "\n",
      "      Epoch    GPU_mem       loss  Instances       Size\n"
     ]
    },
    {
     "name": "stderr",
     "output_type": "stream",
     "text": [
      "       5/20         0G     0.2836          9         64: 100%|██████████| 57/57 \n",
      "               classes   top1_acc   top5_acc: 100%|██████████| 7/7 [00:00<00:00,"
     ]
    },
    {
     "name": "stdout",
     "output_type": "stream",
     "text": [
      "                   all      0.959          1\n",
      "\n",
      "      Epoch    GPU_mem       loss  Instances       Size\n"
     ]
    },
    {
     "name": "stderr",
     "output_type": "stream",
     "text": [
      "\n",
      "       6/20         0G     0.2211          9         64: 100%|██████████| 57/57 \n",
      "               classes   top1_acc   top5_acc: 100%|██████████| 7/7 [00:01<00:00,"
     ]
    },
    {
     "name": "stdout",
     "output_type": "stream",
     "text": [
      "                   all      0.968          1\n"
     ]
    },
    {
     "name": "stderr",
     "output_type": "stream",
     "text": [
      "\n"
     ]
    },
    {
     "name": "stdout",
     "output_type": "stream",
     "text": [
      "\n",
      "      Epoch    GPU_mem       loss  Instances       Size\n"
     ]
    },
    {
     "name": "stderr",
     "output_type": "stream",
     "text": [
      "       7/20         0G     0.2521          9         64: 100%|██████████| 57/57 \n",
      "               classes   top1_acc   top5_acc: 100%|██████████| 7/7 [00:01<00:00,"
     ]
    },
    {
     "name": "stdout",
     "output_type": "stream",
     "text": [
      "                   all      0.963          1\n"
     ]
    },
    {
     "name": "stderr",
     "output_type": "stream",
     "text": [
      "\n"
     ]
    },
    {
     "name": "stdout",
     "output_type": "stream",
     "text": [
      "\n",
      "      Epoch    GPU_mem       loss  Instances       Size\n"
     ]
    },
    {
     "name": "stderr",
     "output_type": "stream",
     "text": [
      "       8/20         0G     0.1967          9         64: 100%|██████████| 57/57 \n",
      "               classes   top1_acc   top5_acc: 100%|██████████| 7/7 [00:00<00:00,"
     ]
    },
    {
     "name": "stdout",
     "output_type": "stream",
     "text": [
      "                   all      0.963          1\n"
     ]
    },
    {
     "name": "stderr",
     "output_type": "stream",
     "text": [
      "\n"
     ]
    },
    {
     "name": "stdout",
     "output_type": "stream",
     "text": [
      "\n",
      "      Epoch    GPU_mem       loss  Instances       Size\n"
     ]
    },
    {
     "name": "stderr",
     "output_type": "stream",
     "text": [
      "       9/20         0G     0.2043          9         64: 100%|██████████| 57/57 \n",
      "               classes   top1_acc   top5_acc: 100%|██████████| 7/7 [00:00<00:00,"
     ]
    },
    {
     "name": "stdout",
     "output_type": "stream",
     "text": [
      "                   all      0.959          1\n"
     ]
    },
    {
     "name": "stderr",
     "output_type": "stream",
     "text": [
      "\n"
     ]
    },
    {
     "name": "stdout",
     "output_type": "stream",
     "text": [
      "\n",
      "      Epoch    GPU_mem       loss  Instances       Size\n"
     ]
    },
    {
     "name": "stderr",
     "output_type": "stream",
     "text": [
      "      10/20         0G     0.2115          9         64: 100%|██████████| 57/57 \n",
      "               classes   top1_acc   top5_acc: 100%|██████████| 7/7 [00:00<00:00,"
     ]
    },
    {
     "name": "stdout",
     "output_type": "stream",
     "text": [
      "                   all      0.963          1\n"
     ]
    },
    {
     "name": "stderr",
     "output_type": "stream",
     "text": [
      "\n"
     ]
    },
    {
     "name": "stdout",
     "output_type": "stream",
     "text": [
      "\n",
      "      Epoch    GPU_mem       loss  Instances       Size\n"
     ]
    },
    {
     "name": "stderr",
     "output_type": "stream",
     "text": [
      "      11/20         0G     0.1748          9         64: 100%|██████████| 57/57 \n",
      "               classes   top1_acc   top5_acc: 100%|██████████| 7/7 [00:00<00:00,"
     ]
    },
    {
     "name": "stdout",
     "output_type": "stream",
     "text": [
      "                   all      0.963          1\n",
      "\n",
      "      Epoch    GPU_mem       loss  Instances       Size\n"
     ]
    },
    {
     "name": "stderr",
     "output_type": "stream",
     "text": [
      "\n",
      "      12/20         0G      0.172          9         64: 100%|██████████| 57/57 \n",
      "               classes   top1_acc   top5_acc: 100%|██████████| 7/7 [00:00<00:00,"
     ]
    },
    {
     "name": "stdout",
     "output_type": "stream",
     "text": [
      "                   all      0.982          1\n"
     ]
    },
    {
     "name": "stderr",
     "output_type": "stream",
     "text": [
      "\n"
     ]
    },
    {
     "name": "stdout",
     "output_type": "stream",
     "text": [
      "\n",
      "      Epoch    GPU_mem       loss  Instances       Size\n"
     ]
    },
    {
     "name": "stderr",
     "output_type": "stream",
     "text": [
      "      13/20         0G     0.1728          9         64: 100%|██████████| 57/57 \n",
      "               classes   top1_acc   top5_acc: 100%|██████████| 7/7 [00:00<00:00,"
     ]
    },
    {
     "name": "stdout",
     "output_type": "stream",
     "text": [
      "                   all      0.963          1\n",
      "\n",
      "      Epoch    GPU_mem       loss  Instances       Size\n"
     ]
    },
    {
     "name": "stderr",
     "output_type": "stream",
     "text": [
      "\n",
      "      14/20         0G     0.1404          9         64: 100%|██████████| 57/57 \n",
      "               classes   top1_acc   top5_acc: 100%|██████████| 7/7 [00:00<00:00,"
     ]
    },
    {
     "name": "stdout",
     "output_type": "stream",
     "text": [
      "                   all      0.963          1\n"
     ]
    },
    {
     "name": "stderr",
     "output_type": "stream",
     "text": [
      "\n"
     ]
    },
    {
     "name": "stdout",
     "output_type": "stream",
     "text": [
      "\n",
      "      Epoch    GPU_mem       loss  Instances       Size\n"
     ]
    },
    {
     "name": "stderr",
     "output_type": "stream",
     "text": [
      "      15/20         0G     0.1486          9         64: 100%|██████████| 57/57 \n",
      "               classes   top1_acc   top5_acc: 100%|██████████| 7/7 [00:00<00:00,"
     ]
    },
    {
     "name": "stdout",
     "output_type": "stream",
     "text": [
      "                   all      0.963          1\n",
      "\n",
      "      Epoch    GPU_mem       loss  Instances       Size\n"
     ]
    },
    {
     "name": "stderr",
     "output_type": "stream",
     "text": [
      "\n",
      "      16/20         0G     0.1277          9         64: 100%|██████████| 57/57 \n",
      "               classes   top1_acc   top5_acc: 100%|██████████| 7/7 [00:00<00:00,"
     ]
    },
    {
     "name": "stdout",
     "output_type": "stream",
     "text": [
      "                   all      0.968          1\n"
     ]
    },
    {
     "name": "stderr",
     "output_type": "stream",
     "text": [
      "\n"
     ]
    },
    {
     "name": "stdout",
     "output_type": "stream",
     "text": [
      "\n",
      "      Epoch    GPU_mem       loss  Instances       Size\n"
     ]
    },
    {
     "name": "stderr",
     "output_type": "stream",
     "text": [
      "      17/20         0G     0.1288          9         64: 100%|██████████| 57/57 \n",
      "               classes   top1_acc   top5_acc: 100%|██████████| 7/7 [00:00<00:00,"
     ]
    },
    {
     "name": "stdout",
     "output_type": "stream",
     "text": [
      "                   all      0.968          1\n",
      "\n",
      "      Epoch    GPU_mem       loss  Instances       Size\n"
     ]
    },
    {
     "name": "stderr",
     "output_type": "stream",
     "text": [
      "\n",
      "      18/20         0G     0.1714          9         64: 100%|██████████| 57/57 \n",
      "               classes   top1_acc   top5_acc: 100%|██████████| 7/7 [00:00<00:00,"
     ]
    },
    {
     "name": "stdout",
     "output_type": "stream",
     "text": [
      "                   all      0.972          1\n"
     ]
    },
    {
     "name": "stderr",
     "output_type": "stream",
     "text": [
      "\n"
     ]
    },
    {
     "name": "stdout",
     "output_type": "stream",
     "text": [
      "\n",
      "      Epoch    GPU_mem       loss  Instances       Size\n"
     ]
    },
    {
     "name": "stderr",
     "output_type": "stream",
     "text": [
      "      19/20         0G     0.1421          9         64: 100%|██████████| 57/57 \n",
      "               classes   top1_acc   top5_acc: 100%|██████████| 7/7 [00:00<00:00,"
     ]
    },
    {
     "name": "stdout",
     "output_type": "stream",
     "text": [
      "                   all      0.972          1\n"
     ]
    },
    {
     "name": "stderr",
     "output_type": "stream",
     "text": [
      "\n"
     ]
    },
    {
     "name": "stdout",
     "output_type": "stream",
     "text": [
      "\n",
      "      Epoch    GPU_mem       loss  Instances       Size\n"
     ]
    },
    {
     "name": "stderr",
     "output_type": "stream",
     "text": [
      "      20/20         0G     0.1558          9         64: 100%|██████████| 57/57 \n",
      "               classes   top1_acc   top5_acc: 100%|██████████| 7/7 [00:00<00:00,"
     ]
    },
    {
     "name": "stdout",
     "output_type": "stream",
     "text": [
      "                   all      0.972          1\n"
     ]
    },
    {
     "name": "stderr",
     "output_type": "stream",
     "text": [
      "\n"
     ]
    },
    {
     "name": "stdout",
     "output_type": "stream",
     "text": [
      "\n",
      "20 epochs completed in 0.079 hours.\n",
      "Optimizer stripped from runs/classify/train4/weights/last.pt, 3.0MB\n",
      "Optimizer stripped from runs/classify/train4/weights/best.pt, 3.0MB\n",
      "\n",
      "Validating runs/classify/train4/weights/best.pt...\n",
      "Ultralytics YOLOv8.1.29 🚀 Python-3.12.2 torch-2.2.1 CPU (Intel Core(TM) i5-7360U 2.30GHz)\n",
      "YOLOv8n-cls summary (fused): 73 layers, 1440004 parameters, 0 gradients, 3.3 GFLOPs\n",
      "\u001b[34m\u001b[1mtrain:\u001b[0m /Users/subhamsahoo/documents/CV_Roadmap_Work/ImageClassification/ImageClassifierYoloV8/dataset2/train... found 907 images in 4 classes ✅ \n",
      "\u001b[34m\u001b[1mval:\u001b[0m /Users/subhamsahoo/documents/CV_Roadmap_Work/ImageClassification/ImageClassifierYoloV8/dataset2/val... found 218 images in 4 classes ✅ \n",
      "\u001b[34m\u001b[1mtest:\u001b[0m None...\n"
     ]
    },
    {
     "name": "stderr",
     "output_type": "stream",
     "text": [
      "               classes   top1_acc   top5_acc: 100%|██████████| 7/7 [00:00<00:00,\n"
     ]
    },
    {
     "name": "stdout",
     "output_type": "stream",
     "text": [
      "                   all      0.982          1\n",
      "Speed: 0.0ms preprocess, 0.8ms inference, 0.0ms loss, 0.0ms postprocess per image\n",
      "Results saved to \u001b[1mruns/classify/train4\u001b[0m\n",
      "Results saved to \u001b[1mruns/classify/train4\u001b[0m\n"
     ]
    },
    {
     "data": {
      "text/plain": [
       "ultralytics.utils.metrics.ClassifyMetrics object with attributes:\n",
       "\n",
       "confusion_matrix: <ultralytics.utils.metrics.ConfusionMatrix object at 0x1255e6120>\n",
       "curves: []\n",
       "curves_results: []\n",
       "fitness: 0.9908256828784943\n",
       "keys: ['metrics/accuracy_top1', 'metrics/accuracy_top5']\n",
       "results_dict: {'metrics/accuracy_top1': 0.9816513657569885, 'metrics/accuracy_top5': 1.0, 'fitness': 0.9908256828784943}\n",
       "save_dir: PosixPath('runs/classify/train4')\n",
       "speed: {'preprocess': 0.0004516829044447033, 'inference': 0.8033426529770598, 'loss': 3.609088582730075e-05, 'postprocess': 2.1873264137758028e-05}\n",
       "task: 'classify'\n",
       "top1: 0.9816513657569885\n",
       "top5: 1.0"
      ]
     },
     "execution_count": 1,
     "metadata": {},
     "output_type": "execute_result"
    }
   ],
   "source": [
    "from ultralytics import YOLO\n",
    "\n",
    "#load a pre trained model\n",
    "model = YOLO('yolov8n-cls.pt') #load a pretrained model(recommneded for beginners)\n",
    "\n",
    "# train the model first train model with 1 epoch to see it it works. then 20\n",
    "model.train(data = '/Users/subhamsahoo/documents/CV_Roadmap_Work/ImageClassification/ImageClassifierYoloV8/dataset2', epochs = 20, imgsz = 64)\n",
    "#model.train(data = '/Users/subhamsahoo/documents/CV_Roadmap_Work/ImageClassification/ImageClassifierYoloV8/dataset2', epochs = 20, imgsz = 64)"
   ]
  },
  {
   "cell_type": "code",
   "execution_count": 3,
   "id": "2bfa63fa-aef2-487c-b204-f3e053586944",
   "metadata": {},
   "outputs": [
    {
     "name": "stdout",
     "output_type": "stream",
     "text": [
      "\n",
      "image 1/1 /Users/subhamsahoo/documents/CV_Roadmap_Work/ImageClassification/ImageClassifierYoloV8/test_data/testImgSunrise1.jpeg: 64x64 sunrise 1.00, shine 0.00, cloudy 0.00, rain 0.00, 4.2ms\n",
      "Speed: 27.6ms preprocess, 4.2ms inference, 0.1ms postprocess per image at shape (1, 3, 64, 64)\n"
     ]
    }
   ],
   "source": [
    "results = model('/Users/subhamsahoo/documents/CV_Roadmap_Work/ImageClassification/ImageClassifierYoloV8/test_data/testImgSunrise1.jpeg')"
   ]
  },
  {
   "cell_type": "code",
   "execution_count": 4,
   "id": "073120dc-0cc7-4ed2-b22c-3be800cb3261",
   "metadata": {},
   "outputs": [
    {
     "name": "stdout",
     "output_type": "stream",
     "text": [
      "[ultralytics.engine.results.Results object with attributes:\n",
      "\n",
      "boxes: None\n",
      "keypoints: None\n",
      "masks: None\n",
      "names: {0: 'cloudy', 1: 'rain', 2: 'shine', 3: 'sunrise'}\n",
      "obb: None\n",
      "orig_img: array([[[155, 174, 209],\n",
      "        [154, 173, 208],\n",
      "        [153, 173, 208],\n",
      "        ...,\n",
      "        [153, 172, 209],\n",
      "        [153, 172, 209],\n",
      "        [152, 171, 208]],\n",
      "\n",
      "       [[154, 173, 208],\n",
      "        [153, 173, 208],\n",
      "        [153, 173, 208],\n",
      "        ...,\n",
      "        [153, 172, 209],\n",
      "        [153, 172, 209],\n",
      "        [152, 171, 208]],\n",
      "\n",
      "       [[153, 173, 208],\n",
      "        [154, 174, 209],\n",
      "        [154, 173, 210],\n",
      "        ...,\n",
      "        [151, 173, 208],\n",
      "        [151, 173, 208],\n",
      "        [150, 172, 207]],\n",
      "\n",
      "       ...,\n",
      "\n",
      "       [[ 34,  29,  31],\n",
      "        [ 32,  27,  29],\n",
      "        [ 31,  28,  30],\n",
      "        ...,\n",
      "        [ 32,  27,  29],\n",
      "        [ 32,  25,  28],\n",
      "        [ 25,  24,  26]],\n",
      "\n",
      "       [[ 29,  24,  26],\n",
      "        [ 29,  24,  26],\n",
      "        [ 33,  30,  32],\n",
      "        ...,\n",
      "        [ 34,  29,  31],\n",
      "        [ 34,  27,  30],\n",
      "        [ 25,  24,  26]],\n",
      "\n",
      "       [[ 30,  26,  25],\n",
      "        [ 30,  26,  25],\n",
      "        [ 33,  28,  29],\n",
      "        ...,\n",
      "        [ 32,  27,  29],\n",
      "        [ 33,  26,  29],\n",
      "        [ 25,  24,  26]]], dtype=uint8)\n",
      "orig_shape: (862, 700)\n",
      "path: '/Users/subhamsahoo/documents/CV_Roadmap_Work/ImageClassification/ImageClassifierYoloV8/test_data/testImgSunrise1.jpeg'\n",
      "probs: ultralytics.engine.results.Probs object\n",
      "save_dir: 'runs/classify/train4'\n",
      "speed: {'preprocess': 27.569293975830078, 'inference': 4.174947738647461, 'postprocess': 0.05888938903808594}]\n"
     ]
    }
   ],
   "source": [
    "print(results)"
   ]
  },
  {
   "cell_type": "code",
   "execution_count": 17,
   "id": "3b41be95-0a6f-40e3-bf1b-247263ca69b1",
   "metadata": {},
   "outputs": [
    {
     "name": "stdout",
     "output_type": "stream",
     "text": [
      "{0: 'cloudy', 1: 'rain', 2: 'shine', 3: 'sunrise'}\n"
     ]
    }
   ],
   "source": [
    "names_dict = results[0].names\n",
    "probs = results[0].probs\n",
    "print(names_dict)\n",
    "#print(probs)"
   ]
  },
  {
   "cell_type": "code",
   "execution_count": 18,
   "id": "00abdd19-b029-409a-8f32-fd7303d07138",
   "metadata": {},
   "outputs": [
    {
     "name": "stdout",
     "output_type": "stream",
     "text": [
      "ultralytics.engine.results.Probs object with attributes:\n",
      "\n",
      "data: tensor([1.8640e-06, 1.1994e-06, 4.0763e-05, 9.9996e-01])\n",
      "orig_shape: None\n",
      "shape: torch.Size([4])\n",
      "top1: 3\n",
      "top1conf: tensor(1.0000)\n",
      "top5: [3, 2, 0, 1]\n",
      "top5conf: tensor([9.9996e-01, 4.0763e-05, 1.8640e-06, 1.1994e-06])\n"
     ]
    }
   ],
   "source": [
    "print(probs)"
   ]
  },
  {
   "cell_type": "code",
   "execution_count": 19,
   "id": "2c94fe2d-329c-4cba-a325-1416cb5ea2d4",
   "metadata": {},
   "outputs": [
    {
     "name": "stdout",
     "output_type": "stream",
     "text": [
      "[1.864018940977985e-06, 1.1994253554803436e-06, 4.0763312426861376e-05, 0.9999561309814453]\n"
     ]
    }
   ],
   "source": [
    "print(probs.data.tolist())"
   ]
  },
  {
   "cell_type": "code",
   "execution_count": 26,
   "id": "7fae33c9-172a-403b-8a90-478e1a6e1546",
   "metadata": {},
   "outputs": [
    {
     "name": "stdout",
     "output_type": "stream",
     "text": [
      "{0: 'cloudy', 1: 'rain', 2: 'shine', 3: 'sunrise'}\n",
      "[0, 0, 0, 1]\n"
     ]
    }
   ],
   "source": [
    "print(names_dict)\n",
    "print(list(map(round, probs.data.tolist()))) # probs rounded to nearest whole number"
   ]
  },
  {
   "cell_type": "code",
   "execution_count": null,
   "id": "c0c9e77f-2d64-4a4b-8949-e8caf77c7cce",
   "metadata": {},
   "outputs": [],
   "source": []
  }
 ],
 "metadata": {
  "kernelspec": {
   "display_name": "Python 3 (ipykernel)",
   "language": "python",
   "name": "python3"
  },
  "language_info": {
   "codemirror_mode": {
    "name": "ipython",
    "version": 3
   },
   "file_extension": ".py",
   "mimetype": "text/x-python",
   "name": "python",
   "nbconvert_exporter": "python",
   "pygments_lexer": "ipython3",
   "version": "3.12.2"
  }
 },
 "nbformat": 4,
 "nbformat_minor": 5
}
